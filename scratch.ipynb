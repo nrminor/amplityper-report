{
 "cells": [
  {
   "cell_type": "code",
   "execution_count": 2,
   "metadata": {},
   "outputs": [],
   "source": [
    "import polars as pl"
   ]
  },
  {
   "cell_type": "code",
   "execution_count": 6,
   "metadata": {},
   "outputs": [],
   "source": [
    "gene_lookup = \"/Users/nickminor/Documents/dholk_experiments/29418/qiaseq_direct_boosted_with_genes.bed\""
   ]
  },
  {
   "cell_type": "code",
   "execution_count": 7,
   "metadata": {},
   "outputs": [],
   "source": [
    "gene_df = pl.read_csv(\n",
    "    gene_lookup, separator=\"\\t\", has_header=False\n",
    ").select(\n",
    "    [\"column_4\", \"column_7\"]\n",
    ").with_columns(\n",
    "    pl.col(\"column_4\").str.replace(\"_RIGHT\", \"\").str.replace(\"_LEFT\", \"\").alias(\"column_4\")\n",
    ").unique(\n",
    "    subset=\"column_4\", keep=\"first\", maintain_order=True\n",
    ")"
   ]
  },
  {
   "cell_type": "code",
   "execution_count": 10,
   "metadata": {},
   "outputs": [
    {
     "name": "stderr",
     "output_type": "stream",
     "text": [
      "Could not mmap compressed IPC file, defaulting to normal read. Toggle off 'memory_map' to silence this warning.\n"
     ]
    }
   ],
   "source": [
    "long_df = pl.read_ipc(\"/Users/nickminor/Documents/dholk_experiments/29419/debug.arrow\").select(\n",
    "    [\"REGION\", \"POS\", \"REF\", \"ALT\", \"REF_AA\", \"ALT_CODON\", \"ALT_AA\", \"Amplicon\", \"Sample ID\", \"Amplicon-Sample-Contig\"]\n",
    ").with_columns(\n",
    "    pl.concat_str(\n",
    "        [pl.col(\"REF\"), pl.col(\"POS\"), pl.col(\"ALT\")], separator=\"-\"\n",
    "    ).alias(\"NUC_SUB\")\n",
    ").drop(\n",
    "    [\"REF\", \"POS\", \"ALT\"]\n",
    ").join(\n",
    "    gene_df, how=\"left\", left_on=\"Amplicon\", right_on=\"column_4\"\n",
    ").rename(\n",
    "    {\"column_7\": \"Gene\"}\n",
    ").with_columns(\n",
    "    pl.concat_str(\n",
    "        [pl.col(\"REF_AA\"), pl.col(\"ALT_CODON\"), pl.col(\"ALT_AA\")], separator=\"-\"\n",
    "    ).alias(\"AA_SUB\")\n",
    ").with_columns(\n",
    "    pl.concat_str(\n",
    "        [pl.col(\"Gene\"), pl.col(\"AA_SUB\")], separator=\": \"\n",
    "    ).alias(\"AA_SUB\")\n",
    ").with_columns(\n",
    "    (\n",
    "        pl.col(\"ALT_AA\").is_null() & pl.col(\"REF_AA\").is_null()\n",
    "    ).alias(\"Noncoding\")\n",
    ").with_columns(\n",
    "    (\n",
    "        (pl.col(\"ALT_AA\") == pl.col(\"REF_AA\")) &\n",
    "        (pl.col(\"Noncoding\") == False)\n",
    "    ).alias(\"Synonymous\")\n",
    ").with_columns(\n",
    "    (\n",
    "        (pl.col(\"ALT_AA\") != pl.col(\"REF_AA\")) &\n",
    "        (pl.col(\"Noncoding\") == False)\n",
    "    ).alias(\"Nonsynonymous\")\n",
    ").drop(\n",
    "    [\"REF_AA\", \"ALT_AA\", \"ALT_CODON\"]\n",
    ").rechunk()"
   ]
  },
  {
   "cell_type": "code",
   "execution_count": 11,
   "metadata": {},
   "outputs": [],
   "source": [
    "short_df = long_df.unique(\n",
    "    subset=\"Amplicon-Sample-Contig\", maintain_order=True\n",
    ").select(\n",
    "    [\"Amplicon-Sample-Contig\", \"Gene\"]\n",
    ").join(\n",
    "    \n",
    "    long_df.select(\n",
    "        [\"Amplicon-Sample-Contig\", \"NUC_SUB\"]\n",
    "    ).group_by(\n",
    "        \"Amplicon-Sample-Contig\", maintain_order=True\n",
    "    ).agg(\n",
    "        pl.col(\"NUC_SUB\")\n",
    "    ).with_columns(\n",
    "        pl.col(\"NUC_SUB\").list.join(\", \").alias(\"Nucleotide Substitutions\")\n",
    "    ).drop(\n",
    "        \"NUC_SUB\"\n",
    "    ),\n",
    "    on=\"Amplicon-Sample-Contig\", how=\"left\"\n",
    "    \n",
    ").join(\n",
    "    \n",
    "    long_df.select(\n",
    "        [\"Amplicon-Sample-Contig\", \"AA_SUB\", \"Synonymous\"]\n",
    "    ).filter(\n",
    "        pl.col(\"Synonymous\")\n",
    "    ).group_by(\n",
    "        \"Amplicon-Sample-Contig\", maintain_order=True\n",
    "    ).agg(\n",
    "        pl.col(\"AA_SUB\")\n",
    "    ).with_columns(\n",
    "        pl.col(\"AA_SUB\").list.join(\", \").alias(\"Synonymous Mutations\")\n",
    "    ).drop(\n",
    "        \"AA_SUB\"\n",
    "    ),\n",
    "    on=\"Amplicon-Sample-Contig\", how=\"left\"\n",
    "    \n",
    ").join(\n",
    "    \n",
    "    long_df.select(\n",
    "        [\"Amplicon-Sample-Contig\", \"AA_SUB\", \"Nonsynonymous\"]\n",
    "    ).filter(\n",
    "        pl.col(\"Nonsynonymous\")\n",
    "    ).group_by(\n",
    "        \"Amplicon-Sample-Contig\", maintain_order=True\n",
    "    ).agg(\n",
    "        pl.col(\"AA_SUB\")\n",
    "    ).with_columns(\n",
    "        pl.col(\"AA_SUB\").list.join(\", \").alias(\"Nonsynonymous Mutations\")\n",
    "    ).drop(\n",
    "        \"AA_SUB\"\n",
    "    ),\n",
    "    on=\"Amplicon-Sample-Contig\", how=\"left\"\n",
    "    \n",
    ").rechunk()"
   ]
  },
  {
   "cell_type": "code",
   "execution_count": 12,
   "metadata": {},
   "outputs": [
    {
     "data": {
      "text/html": [
       "<div><style>\n",
       ".dataframe > thead > tr,\n",
       ".dataframe > tbody > tr {\n",
       "  text-align: right;\n",
       "  white-space: pre-wrap;\n",
       "}\n",
       "</style>\n",
       "<small>shape: (7_223, 5)</small><table border=\"1\" class=\"dataframe\"><thead><tr><th>Amplicon-Sample-Contig</th><th>Gene</th><th>Nucleotide Substitutions</th><th>Synonymous Mutations</th><th>Nonsynonymous Mutations</th></tr><tr><td>str</td><td>str</td><td>str</td><td>str</td><td>str</td></tr></thead><tbody><tr><td>&quot;QIAseq_221-SRR…</td><td>&quot;ORF1ab&quot;</td><td>&quot;A-27-C, T-177-…</td><td>null</td><td>null</td></tr><tr><td>&quot;QIAseq_221-SRR…</td><td>&quot;ORF1ab&quot;</td><td>&quot;A-27-C, T-78-A…</td><td>null</td><td>null</td></tr><tr><td>&quot;QIAseq_221-SRR…</td><td>&quot;ORF1ab&quot;</td><td>&quot;A-27-C, C-100-…</td><td>null</td><td>null</td></tr><tr><td>&quot;QIAseq_221-SRR…</td><td>&quot;ORF1ab&quot;</td><td>&quot;A-27-C, T-54-C…</td><td>null</td><td>null</td></tr><tr><td>&quot;QIAseq_221-SRR…</td><td>&quot;ORF1ab&quot;</td><td>&quot;A-27-C, C-100-…</td><td>null</td><td>null</td></tr><tr><td>&quot;QIAseq_221-SRR…</td><td>&quot;ORF1ab&quot;</td><td>&quot;A-27-C, T-78-A…</td><td>null</td><td>null</td></tr><tr><td>&quot;QIAseq_221-SRR…</td><td>&quot;ORF1ab&quot;</td><td>&quot;A-27-C, T-78-A…</td><td>null</td><td>null</td></tr><tr><td>&quot;QIAseq_221-SRR…</td><td>&quot;ORF1ab&quot;</td><td>&quot;A-27-C, C-100-…</td><td>null</td><td>null</td></tr><tr><td>&quot;QIAseq_221-SRR…</td><td>&quot;ORF1ab&quot;</td><td>&quot;A-27-T, C-100-…</td><td>null</td><td>null</td></tr><tr><td>&quot;QIAseq_221-SRR…</td><td>&quot;ORF1ab&quot;</td><td>&quot;A-27-C, T-54-C…</td><td>null</td><td>null</td></tr><tr><td>&quot;QIAseq_221-SRR…</td><td>&quot;ORF1ab&quot;</td><td>&quot;A-27-C, T-54-C…</td><td>null</td><td>null</td></tr><tr><td>&quot;QIAseq_221-SRR…</td><td>&quot;ORF1ab&quot;</td><td>&quot;A-27-C, T-78-A…</td><td>null</td><td>null</td></tr><tr><td>&hellip;</td><td>&hellip;</td><td>&hellip;</td><td>&hellip;</td><td>&hellip;</td></tr><tr><td>&quot;QIAseq_222-2-S…</td><td>&quot;ORF10&quot;</td><td>&quot;T-29758-G, C-2…</td><td>null</td><td>null</td></tr><tr><td>&quot;QIAseq_222-2-S…</td><td>&quot;ORF10&quot;</td><td>&quot;T-29758-G, G-2…</td><td>null</td><td>null</td></tr><tr><td>&quot;QIAseq_222-2-S…</td><td>&quot;ORF10&quot;</td><td>&quot;T-29758-G&quot;</td><td>null</td><td>null</td></tr><tr><td>&quot;QIAseq_222-2-S…</td><td>&quot;ORF10&quot;</td><td>&quot;T-29758-G, G-2…</td><td>null</td><td>null</td></tr><tr><td>&quot;QIAseq_222-2-S…</td><td>&quot;ORF10&quot;</td><td>&quot;T-29758-G, T-2…</td><td>null</td><td>null</td></tr><tr><td>&quot;QIAseq_222-2-S…</td><td>&quot;ORF10&quot;</td><td>&quot;T-29758-G, G-2…</td><td>null</td><td>null</td></tr><tr><td>&quot;QIAseq_222-2-S…</td><td>&quot;ORF10&quot;</td><td>&quot;T-29758-G, A-2…</td><td>null</td><td>null</td></tr><tr><td>&quot;QIAseq_222-2-S…</td><td>&quot;ORF10&quot;</td><td>&quot;T-29758-G&quot;</td><td>null</td><td>null</td></tr><tr><td>&quot;QIAseq_222-2-S…</td><td>&quot;ORF10&quot;</td><td>&quot;T-29758-G, G-2…</td><td>null</td><td>null</td></tr><tr><td>&quot;QIAseq_222-2-S…</td><td>&quot;ORF10&quot;</td><td>&quot;T-29758-G&quot;</td><td>null</td><td>null</td></tr><tr><td>&quot;QIAseq_222-2-S…</td><td>&quot;ORF10&quot;</td><td>&quot;T-29758-G, A-2…</td><td>null</td><td>null</td></tr><tr><td>&quot;QIAseq_222-2-S…</td><td>&quot;ORF10&quot;</td><td>&quot;T-29758-G, G-2…</td><td>null</td><td>null</td></tr></tbody></table></div>"
      ],
      "text/plain": [
       "shape: (7_223, 5)\n",
       "┌─────────────────────────────────┬────────┬──────────────────────────┬────────────┬───────────────┐\n",
       "│ Amplicon-Sample-Contig          ┆ Gene   ┆ Nucleotide Substitutions ┆ Synonymous ┆ Nonsynonymous │\n",
       "│ ---                             ┆ ---    ┆ ---                      ┆ Mutations  ┆ Mutations     │\n",
       "│ str                             ┆ str    ┆ str                      ┆ ---        ┆ ---           │\n",
       "│                                 ┆        ┆                          ┆ str        ┆ str           │\n",
       "╞═════════════════════════════════╪════════╪══════════════════════════╪════════════╪═══════════════╡\n",
       "│ QIAseq_221-SRR21019607-contig11 ┆ ORF1ab ┆ A-27-C, T-177-C, A-178-G ┆ null       ┆ null          │\n",
       "│ QIAseq_221-SRR23121149-contig17 ┆ ORF1ab ┆ A-27-C, T-78-A, C-100-A, ┆ null       ┆ null          │\n",
       "│                                 ┆        ┆ T-177-C…                 ┆            ┆               │\n",
       "│ QIAseq_221-SRR21019607-contig8  ┆ ORF1ab ┆ A-27-C, C-100-A, A-178-G ┆ null       ┆ null          │\n",
       "│ QIAseq_221-SRR21019607-contig7  ┆ ORF1ab ┆ A-27-C, T-54-C, T-78-A,  ┆ null       ┆ null          │\n",
       "│                                 ┆        ┆ C-100-A,…                ┆            ┆               │\n",
       "│ …                               ┆ …      ┆ …                        ┆ …          ┆ …             │\n",
       "│ QIAseq_222-2-SRR23121172-contig ┆ ORF10  ┆ T-29758-G, G-29828-T,    ┆ null       ┆ null          │\n",
       "│ 1…                              ┆        ┆ T-29832-A                ┆            ┆               │\n",
       "│ QIAseq_222-2-SRR23121144-contig ┆ ORF10  ┆ T-29758-G                ┆ null       ┆ null          │\n",
       "│ 9                               ┆        ┆                          ┆            ┆               │\n",
       "│ QIAseq_222-2-SRR23121144-contig ┆ ORF10  ┆ T-29758-G, A-29819-+T    ┆ null       ┆ null          │\n",
       "│ 1…                              ┆        ┆                          ┆            ┆               │\n",
       "│ QIAseq_222-2-SRR23121144-contig ┆ ORF10  ┆ T-29758-G, G-29828-T,    ┆ null       ┆ null          │\n",
       "│ 8                               ┆        ┆ T-29832-A                ┆            ┆               │\n",
       "└─────────────────────────────────┴────────┴──────────────────────────┴────────────┴───────────────┘"
      ]
     },
     "execution_count": 12,
     "metadata": {},
     "output_type": "execute_result"
    }
   ],
   "source": [
    "short_df"
   ]
  }
 ],
 "metadata": {
  "kernelspec": {
   "display_name": "read-zap-report-geuyPSwh-py3.11",
   "language": "python",
   "name": "python3"
  },
  "language_info": {
   "codemirror_mode": {
    "name": "ipython",
    "version": 3
   },
   "file_extension": ".py",
   "mimetype": "text/x-python",
   "name": "python",
   "nbconvert_exporter": "python",
   "pygments_lexer": "ipython3",
   "version": "3.11.5"
  }
 },
 "nbformat": 4,
 "nbformat_minor": 2
}
